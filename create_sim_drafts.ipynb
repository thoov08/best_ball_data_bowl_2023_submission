{
 "cells": [
  {
   "cell_type": "code",
   "execution_count": 45,
   "metadata": {},
   "outputs": [],
   "source": [
    "import pandas as pd\n",
    "import numpy as np\n",
    "import pyarrow\n",
    "import nfl_data_py as nfl"
   ]
  },
  {
   "cell_type": "code",
   "execution_count": 35,
   "metadata": {},
   "outputs": [],
   "source": [
    "# read files of raw data from regular season\n",
    "bbm3_reg_season=[]\n",
    "for i in range(9):\n",
    "    print(\"reading files from group \" + str(i))\n",
    "    try:\n",
    "        bbm3_reg_season.append(pd.read_csv(\"https://raw.githubusercontent.com/fantasydatapros/best-ball-data-bowl/master/data/2022/regular_season/fast/part_0\" + str(i+1) + \".csv\"))\n",
    "        time.sleep(1)\n",
    "    except:\n",
    "        print(\"failed fast \" + str(i))\n",
    "        pass\n",
    "    try:\n",
    "        bbm3_reg_season.append(pd.read_csv(\"https://raw.githubusercontent.com/fantasydatapros/best-ball-data-bowl/master/data/2022/regular_season/mixed/part_0\" + str(i+1) + \".csv\"))\n",
    "        time.sleep(1)\n",
    "    except:\n",
    "        print(\"failed mixed \" + str(i))\n",
    "        pass\n",
    "\n",
    "for j in range(9,27):\n",
    "    print(\"reading files from group \" + str(j))\n",
    "    try:\n",
    "        if j < 10:\n",
    "            fnum = \"0\" + str(j)\n",
    "        else:\n",
    "            fnum = str(j)\n",
    "        bbm3_reg_season.append(pd.read_csv(\"https://raw.githubusercontent.com/fantasydatapros/best-ball-data-bowl/master/data/2022/regular_season/fast/part_\" + fnum + \".csv\"))\n",
    "        time.sleep(1)\n",
    "    except:\n",
    "        print(\"failed fast \" + str(j))\n",
    "        pass\n",
    "    \n",
    "bbm3_reg_season = pd.concat(bbm3_reg_season)\n",
    "\n",
    "# keep data only for draft_id values with 216 picks (data might be spread across other files not used here or missing entirely)\n",
    "draft_ids_to_keep = bbm3_reg_season['draft_id'].value_counts()\n",
    "draft_ids_to_keep = draft_ids_to_keep[draft_ids_to_keep == 216].index.values\n",
    "bbm3_reg_season = bbm3_reg_season[bbm3_reg_season['draft_id'].isin(draft_ids_to_keep)].sort_values(['draft_id','overall_pick_number']).reset_index(drop=True)"
   ]
  },
  {
   "cell_type": "code",
   "execution_count": 36,
   "metadata": {},
   "outputs": [],
   "source": [
    "# identify which teams advanced to quarterfinals based on top two scores in each draft\n",
    "teams_adv_to_qtr = bbm3_reg_season[['draft_id','tournament_entry_id','roster_points']].drop_duplicates() \\\n",
    "    .groupby('draft_id').apply(lambda group: group.nlargest(2, \"roster_points\")).reset_index(drop=True)\n",
    "\n",
    "# add identifier to original data frame if the team advanced\n",
    "bbm3_reg_season['adv_to_qtr'] = np.where(bbm3_reg_season['tournament_entry_id'].isin(teams_adv_to_qtr['tournament_entry_id']), 1., 0.)"
   ]
  },
  {
   "cell_type": "code",
   "execution_count": 38,
   "metadata": {},
   "outputs": [],
   "source": [
    "# calculate number of each position already taken at each pick in their respective draft\n",
    "cumu_gone_pos = pd.DataFrame(bbm3_reg_season['draft_id'])\n",
    "cumu_gone_pos['cumu_QB_gone'] = bbm3_reg_season[bbm3_reg_season['position_name'] == \"QB\"].groupby(\"draft_id\").cumcount()\n",
    "cumu_gone_pos['cumu_RB_gone'] = bbm3_reg_season[bbm3_reg_season['position_name'] == \"RB\"].groupby(\"draft_id\").cumcount()\n",
    "cumu_gone_pos['cumu_WR_gone'] = bbm3_reg_season[bbm3_reg_season['position_name'] == \"WR\"].groupby(\"draft_id\").cumcount()\n",
    "cumu_gone_pos['cumu_TE_gone'] = bbm3_reg_season[bbm3_reg_season['position_name'] == \"TE\"].groupby(\"draft_id\").cumcount()\n",
    "cumu_gone_pos = cumu_gone_pos.groupby(\"draft_id\")[['cumu_QB_gone','cumu_RB_gone','cumu_WR_gone','cumu_TE_gone']].bfill().ffill()\n",
    "bbm3_reg_season = pd.concat([bbm3_reg_season, cumu_gone_pos], axis=1)\n",
    "bbm3_reg_season[['cumu_QB_gone','cumu_RB_gone','cumu_WR_gone','cumu_TE_gone']] = bbm3_reg_season[['cumu_QB_gone','cumu_RB_gone','cumu_WR_gone','cumu_TE_gone']].fillna(0)"
   ]
  },
  {
   "cell_type": "code",
   "execution_count": 56,
   "metadata": {},
   "outputs": [
    {
     "name": "stdout",
     "output_type": "stream",
     "text": [
      "Downcasting floats.\n"
     ]
    }
   ],
   "source": [
    "# query weekly player stats and add UD fantasy points column\n",
    "nfl_weekly_2022 = nfl.import_weekly_data(years=[2022])\n",
    "nfl_weekly_2022['fpts'] = nfl_weekly_2022.apply(lambda row: row['receptions']*0.5 + row['receiving_tds']*6.0 + row['receiving_yards']*0.1 + row['rushing_tds']*6.0 + row['rushing_yards']*0.1 + row['passing_yards']*0.04 + row['passing_tds']*4.0 + row['interceptions']*-1.0 + row['passing_2pt_conversions']*2.0 + row['rushing_2pt_conversions']*2.0 + row['receiving_2pt_conversions']*2.0 + row['sack_fumbles_lost']*-2.0 + row['rushing_fumbles_lost']*-2.0 + row['receiving_fumbles_lost']*-2.0, axis=1)"
   ]
  },
  {
   "cell_type": "code",
   "execution_count": 83,
   "metadata": {},
   "outputs": [],
   "source": [
    "# fix a few name mismatches between BBM files and weekly stats\n",
    "nfl_weekly_2022.loc[nfl_weekly_2022['player_display_name'] == \"DJ Moore\", 'player_display_name'] = 'D.J. Moore'\n",
    "nfl_weekly_2022.loc[nfl_weekly_2022['player_display_name'] == \"AJ Dillon\", 'player_display_name'] = 'A.J. Dillon'\n",
    "nfl_weekly_2022.loc[nfl_weekly_2022['player_display_name'] == \"Joshua Palmer\", 'player_display_name'] = 'Josh Palmer'\n",
    "nfl_weekly_2022.loc[nfl_weekly_2022['player_display_name'] == \"DJ Chark\", 'player_display_name'] = 'D.J. Chark'\n",
    "nfl_weekly_2022.loc[nfl_weekly_2022['player_display_name'] == \"KJ Hamler\", 'player_display_name'] = 'K.J. Hamler'\n",
    "nfl_weekly_2022.loc[nfl_weekly_2022['player_display_name'] == \"Robbie Anderson\", 'player_display_name'] = 'Robbie Anderson'\n",
    "nfl_weekly_2022.loc[nfl_weekly_2022['player_display_name'] == \"Jeff Wilson\", 'player_display_name'] = 'Jeff Wilson'\n",
    "nfl_weekly_2022.loc[nfl_weekly_2022['player_display_name'] == \"Mike Davis\", 'player_display_name'] = 'Mike Davis'\n",
    "# some other names in BBM files aren't found in nfl weekly data, but didn't play and had no weekly stats"
   ]
  },
  {
   "cell_type": "code",
   "execution_count": 96,
   "metadata": {},
   "outputs": [
    {
     "data": {
      "text/html": [
       "<div>\n",
       "<style scoped>\n",
       "    .dataframe tbody tr th:only-of-type {\n",
       "        vertical-align: middle;\n",
       "    }\n",
       "\n",
       "    .dataframe tbody tr th {\n",
       "        vertical-align: top;\n",
       "    }\n",
       "\n",
       "    .dataframe thead th {\n",
       "        text-align: right;\n",
       "    }\n",
       "</style>\n",
       "<table border=\"1\" class=\"dataframe\">\n",
       "  <thead>\n",
       "    <tr style=\"text-align: right;\">\n",
       "      <th></th>\n",
       "      <th>player_name</th>\n",
       "      <th>position_name</th>\n",
       "      <th>adp</th>\n",
       "    </tr>\n",
       "  </thead>\n",
       "  <tbody>\n",
       "    <tr>\n",
       "      <th>0</th>\n",
       "      <td>Josh Allen</td>\n",
       "      <td>QB</td>\n",
       "      <td>29.317713</td>\n",
       "    </tr>\n",
       "    <tr>\n",
       "      <th>1</th>\n",
       "      <td>Justin Herbert</td>\n",
       "      <td>QB</td>\n",
       "      <td>43.955080</td>\n",
       "    </tr>\n",
       "    <tr>\n",
       "      <th>2</th>\n",
       "      <td>Patrick Mahomes</td>\n",
       "      <td>QB</td>\n",
       "      <td>47.234335</td>\n",
       "    </tr>\n",
       "    <tr>\n",
       "      <th>3</th>\n",
       "      <td>Lamar Jackson</td>\n",
       "      <td>QB</td>\n",
       "      <td>48.033830</td>\n",
       "    </tr>\n",
       "    <tr>\n",
       "      <th>4</th>\n",
       "      <td>Kyler Murray</td>\n",
       "      <td>QB</td>\n",
       "      <td>60.507261</td>\n",
       "    </tr>\n",
       "    <tr>\n",
       "      <th>...</th>\n",
       "      <td>...</td>\n",
       "      <td>...</td>\n",
       "      <td>...</td>\n",
       "    </tr>\n",
       "    <tr>\n",
       "      <th>405</th>\n",
       "      <td>Lynn Bowden</td>\n",
       "      <td>WR</td>\n",
       "      <td>207.650000</td>\n",
       "    </tr>\n",
       "    <tr>\n",
       "      <th>406</th>\n",
       "      <td>Tylan Wallace</td>\n",
       "      <td>WR</td>\n",
       "      <td>208.202276</td>\n",
       "    </tr>\n",
       "    <tr>\n",
       "      <th>407</th>\n",
       "      <td>Tyron Johnson</td>\n",
       "      <td>WR</td>\n",
       "      <td>208.428571</td>\n",
       "    </tr>\n",
       "    <tr>\n",
       "      <th>408</th>\n",
       "      <td>John Ross</td>\n",
       "      <td>WR</td>\n",
       "      <td>208.615385</td>\n",
       "    </tr>\n",
       "    <tr>\n",
       "      <th>409</th>\n",
       "      <td>Chris Conley</td>\n",
       "      <td>WR</td>\n",
       "      <td>209.387597</td>\n",
       "    </tr>\n",
       "  </tbody>\n",
       "</table>\n",
       "<p>410 rows × 3 columns</p>\n",
       "</div>"
      ],
      "text/plain": [
       "         player_name position_name         adp\n",
       "0         Josh Allen            QB   29.317713\n",
       "1     Justin Herbert            QB   43.955080\n",
       "2    Patrick Mahomes            QB   47.234335\n",
       "3      Lamar Jackson            QB   48.033830\n",
       "4       Kyler Murray            QB   60.507261\n",
       "..               ...           ...         ...\n",
       "405      Lynn Bowden            WR  207.650000\n",
       "406    Tylan Wallace            WR  208.202276\n",
       "407    Tyron Johnson            WR  208.428571\n",
       "408        John Ross            WR  208.615385\n",
       "409     Chris Conley            WR  209.387597\n",
       "\n",
       "[410 rows x 3 columns]"
      ]
     },
     "execution_count": 96,
     "metadata": {},
     "output_type": "execute_result"
    }
   ],
   "source": [
    "# calculate ADP for each player\n",
    "\n",
    "# replace FB with RB\n",
    "bbm3_reg_season.loc[bbm3_reg_season['position_name'] == \"FB\", \"position_name\"] = 'RB'\n",
    "\n",
    "# only keep players drafted 20+ times (ex. Davis Webb was drafted just once and it was at 1.06)\n",
    "players_to_keep = bbm3_reg_season['player_name'][bbm3_reg_season['player_name'].map(bbm3_reg_season['player_name'].value_counts()) >= 20]\n",
    "\n",
    "bbm3_adp = bbm3_reg_season[bbm3_reg_season['player_name'].isin(players_to_keep)]\\\n",
    "    .groupby(['player_name','position_name'])['overall_pick_number'].mean().reset_index()\\\n",
    "    .sort_values(['position_name','overall_pick_number'])\\\n",
    "    .rename(columns={'overall_pick_number': 'adp'})\\\n",
    "    .reset_index(drop=True)"
   ]
  },
  {
   "cell_type": "code",
   "execution_count": 213,
   "metadata": {},
   "outputs": [],
   "source": [
    "# create function to return player names of most similar players by ADP\n",
    "def get_similar_players_for_lineup(players, positions, n_similar_players=8):\n",
    "    # if player not found in ADP, replace ADP with 215\n",
    "    output=[]\n",
    "    for i in range(len(players)):\n",
    "        same_pos_adp = bbm3_adp.loc[bbm3_adp['position_name'] == positions[i],:]\n",
    "        adp_of_player = bbm3_adp.loc[bbm3_adp['player_name'] == players[i], 'adp'].values\n",
    "        if len(adp_of_player) == 0:\n",
    "            adp_of_player = np.array(215)\n",
    "        same_pos_adp = same_pos_adp.assign(dist = np.abs(same_pos_adp['adp'].values - adp_of_player))\n",
    "        output.append(np.random.choice(same_pos_adp['player_name'][same_pos_adp.nsmallest(n_similar_players, 'dist').index].values))\n",
    "    return output\n"
   ]
  },
  {
   "cell_type": "code",
   "execution_count": 264,
   "metadata": {},
   "outputs": [],
   "source": [
    "# create function to identify which players' scores will count towards the weekly total for a given team\n",
    "def get_roster_fpts_for_week(week_player_pts_df):\n",
    "    idx_QB = week_player_pts_df[(week_player_pts_df['position_group'] == \"QB\")].sort_values('fpts', ascending=False).head(1).index.values\n",
    "    idx_RB = week_player_pts_df[(week_player_pts_df['position_group'] == \"RB\")].sort_values('fpts', ascending=False).head(2).index.values\n",
    "    idx_WR = week_player_pts_df[(week_player_pts_df['position_group'] == \"WR\")].sort_values('fpts', ascending=False).head(3).index.values\n",
    "    idx_TE = week_player_pts_df[(week_player_pts_df['position_group'] == \"TE\")].sort_values('fpts', ascending=False).head(1).index.values\n",
    "    idx_FLEX = week_player_pts_df[(week_player_pts_df['position_group'] != \"QB\") & (~week_player_pts_df.index.isin(idx_RB)) & (~week_player_pts_df.index.isin(idx_WR)) & (~week_player_pts_df.index.isin(idx_TE))].sort_values('fpts', ascending=False).head(1).index.values\n",
    "    return np.sum(week_player_pts_df.loc[np.concatenate([idx_QB, idx_RB, idx_WR, idx_TE, idx_FLEX]),'fpts'].values)\n",
    "\n",
    "# simulate the total regular season roster score of an entry based on similar players\n",
    "def sim_entry_on_similar_players(entry_to_use):\n",
    "    entry_actual_players = bbm3_reg_season[bbm3_reg_season['tournament_entry_id'] == entry_to_use]['player_name'].values\n",
    "    entry_actual_positions = bbm3_reg_season[bbm3_reg_season['tournament_entry_id'] == entry_to_use]['position_name'].values\n",
    "    players_for_sim = get_similar_players_for_lineup(entry_actual_players, entry_actual_positions)\n",
    "    weekly_outcomes = nfl_weekly_2022[(nfl_weekly_2022['player_display_name'].isin(players_for_sim)) & (nfl_weekly_2022['week'] <= 14)][['week','position_group','fpts']]\n",
    "    weekly_outcomes.loc[weekly_outcomes['position_group'] == \"FB\", \"position_group\"] = 'RB'\n",
    "    weekly_roster_score = []\n",
    "    for i in range(14):\n",
    "        weekly_roster_score.append(get_roster_fpts_for_week(weekly_outcomes[weekly_outcomes['week']==i+1]))\n",
    "    return np.sum(weekly_roster_score)\n"
   ]
  },
  {
   "cell_type": "code",
   "execution_count": 275,
   "metadata": {},
   "outputs": [
    {
     "name": "stdout",
     "output_type": "stream",
     "text": [
      "running 1\n",
      "running 2\n",
      "running 3\n",
      "running 4\n",
      "running 5\n",
      "running 6\n",
      "running 7\n",
      "running 8\n",
      "running 9\n",
      "running 10\n"
     ]
    }
   ],
   "source": [
    "unique_entry_ids = np.unique(bbm3_reg_season['tournament_entry_id'].values)\n",
    "entry_sim_roster_scores=[None] * len(unique_entry_ids)\n",
    "# for entry_idx in range(len(unique_entry_ids)):\n",
    "for entry_idx in range(10):\n",
    "    print('running ' + str(entry_idx+1))\n",
    "    entry_sim_roster_scores[entry_idx] = sim_entry_on_similar_players(unique_entry_ids[entry_idx])"
   ]
  },
  {
   "cell_type": "code",
   "execution_count": 283,
   "metadata": {},
   "outputs": [
    {
     "name": "stdout",
     "output_type": "stream",
     "text": [
      "Number of CPU cores: 24\n"
     ]
    },
    {
     "name": "stderr",
     "output_type": "stream",
     "text": [
      "Progress: 100%|██████████| 451200/451200 [5:34:10<00:00, 22.50it/s]   \n"
     ]
    },
    {
     "name": "stdout",
     "output_type": "stream",
     "text": [
      "results are now complete in the \"entry_sim_roster_scores\" list\n"
     ]
    }
   ],
   "source": [
    "# completed 451,200 iterations in 5:34 with 24 available cores\n",
    "\n",
    "import multiprocessing\n",
    "from tqdm import tqdm\n",
    "\n",
    "num_cores = multiprocessing.cpu_count()\n",
    "print(\"Number of CPU cores:\", num_cores)\n",
    "\n",
    "def process_entry(entry_idx):\n",
    "    return sim_entry_on_similar_players(unique_entry_ids[entry_idx])\n",
    "\n",
    "if __name__ == '__main__':\n",
    "    # set number of iterations\n",
    "    n_iterations = len(unique_entry_ids)\n",
    "\n",
    "    # create pool for iterations\n",
    "    pool = multiprocessing.Pool()\n",
    "\n",
    "    # create a progress bar\n",
    "    with tqdm(total=n_iterations, desc=\"Progress\") as pbar:\n",
    "        results=[]\n",
    "        for result in pool.imap(process_entry, range(n_iterations)):\n",
    "            results.append(result)\n",
    "            # update progress bar\n",
    "            pbar.update()\n",
    "\n",
    "    pool.close()\n",
    "    pool.join()\n",
    "\n",
    "    print('results are now complete in the \"results\" list')\n"
   ]
  },
  {
   "cell_type": "code",
   "execution_count": 289,
   "metadata": {},
   "outputs": [
    {
     "data": {
      "image/png": "[encoded data removed]",
      "text/plain": [
       "<Figure size 640x480 with 1 Axes>"
      ]
     },
     "metadata": {},
     "output_type": "display_data"
    }
   ],
   "source": [
    "import matplotlib.pyplot as plt\n",
    "plt.hist(results, bins=50);"
   ]
  },
  {
   "cell_type": "code",
   "execution_count": 294,
   "metadata": {},
   "outputs": [],
   "source": [
    "# create dataframe of simmed scores and merge to create bbm3_sim\n",
    "simmed_roster_scores = pd.DataFrame({\n",
    "    'tournament_entry_id' : unique_entry_ids,\n",
    "    'simmed_roster_score' : results\n",
    "})\n",
    "\n",
    "bbm3_sim = pd.merge(bbm3_reg_season, simmed_roster_scores, how='left', on='tournament_entry_id')\n",
    "\n",
    "# add identifier of which teams advanced to quarterfinals (top 2 teams per draft_id)\n",
    "simmed_teams_adv_to_qtr = bbm3_sim[['draft_id','tournament_entry_id','simmed_roster_score']].drop_duplicates() \\\n",
    "    .groupby('draft_id').apply(lambda group: group.nlargest(2, \"simmed_roster_score\")).reset_index(drop=True)\n",
    "\n",
    "# add identifier to original data frame if the team advanced\n",
    "bbm3_sim['adv_in_sim'] = np.where(bbm3_sim['tournament_entry_id'].isin(simmed_teams_adv_to_qtr['tournament_entry_id']), 1., 0.)"
   ]
  },
  {
   "cell_type": "code",
   "execution_count": 297,
   "metadata": {},
   "outputs": [],
   "source": [
    "# write parquet file\n",
    "bbm3_sim.to_parquet('bbm3_sim.parquet', engine='pyarrow', compression='gzip')"
   ]
  }
 ],
 "metadata": {
  "kernelspec": {
   "display_name": "py_best_ball_data_bowl_private",
   "language": "python",
   "name": "python3"
  },
  "language_info": {
   "codemirror_mode": {
    "name": "ipython",
    "version": 3
   },
   "file_extension": ".py",
   "mimetype": "text/x-python",
   "name": "python",
   "nbconvert_exporter": "python",
   "pygments_lexer": "ipython3",
   "version": "3.9.12"
  },
  "orig_nbformat": 4,
  "vscode": {
   "interpreter": {
    "hash": "3b02fe71fba3af9b70680266f941ac499da4eee0ff6c8444dce57a0650fb148c"
   }
  }
 },
 "nbformat": 4,
 "nbformat_minor": 2
}
